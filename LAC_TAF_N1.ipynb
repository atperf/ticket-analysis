{
 "cells": [
  {
   "cell_type": "code",
   "execution_count": 1,
   "metadata": {},
   "outputs": [],
   "source": [
    "import pandas as pd\n",
    "from sklearn.feature_extraction.text import TfidfVectorizer\n",
    "import re\n",
    "import nltk\n",
    "from nltk.corpus import stopwords\n",
    "from nltk.tokenize import word_tokenize\n",
    "from nltk.stem import PorterStemmer, WordNetLemmatizer"
   ]
  },
  {
   "cell_type": "code",
   "execution_count": null,
   "metadata": {},
   "outputs": [],
   "source": [
    "# Download necessary NLTK data\n",
    "nltk.download('punkt')\n",
    "nltk.download('stopwords')\n",
    "nltk.download('wordnet')"
   ]
  },
  {
   "cell_type": "code",
   "execution_count": 3,
   "metadata": {},
   "outputs": [],
   "source": [
    "df = pd.read_csv(\"Tickets LAC TAF N1.csv\", sep=\",\",on_bad_lines='skip')"
   ]
  },
  {
   "cell_type": "code",
   "execution_count": 4,
   "metadata": {},
   "outputs": [],
   "source": [
    "df1 = df.dropna(axis = 1, how='all')"
   ]
  },
  {
   "cell_type": "code",
   "execution_count": 5,
   "metadata": {},
   "outputs": [
    {
     "name": "stdout",
     "output_type": "stream",
     "text": [
      "<class 'pandas.core.frame.DataFrame'>\n",
      "RangeIndex: 4046 entries, 0 to 4045\n",
      "Data columns (total 22 columns):\n",
      " #   Column                Non-Null Count  Dtype  \n",
      "---  ------                --------------  -----  \n",
      " 0   Ticket ID             4046 non-null   int64  \n",
      " 1   Ticket Owner          4046 non-null   object \n",
      " 2   Ticket Title          4035 non-null   object \n",
      " 3   Ticket Description    4024 non-null   object \n",
      " 4   Ticket Cause          2414 non-null   object \n",
      " 5   Ticket Created At     4046 non-null   object \n",
      " 6   Ticket Updated At     4046 non-null   object \n",
      " 7   Ticket Due date       3223 non-null   object \n",
      " 8   Ticket Original Team  4046 non-null   object \n",
      " 9   Ticket Teams          4046 non-null   object \n",
      " 10  Ticket Category       3924 non-null   object \n",
      " 11  Ticket Status         1690 non-null   object \n",
      " 12  Ticket Labels         3684 non-null   object \n",
      " 13  Ticket Archived At    4046 non-null   object \n",
      " 14  Task ID               2827 non-null   float64\n",
      " 15  Task Description      2750 non-null   object \n",
      " 16  Task Author           1785 non-null   object \n",
      " 17  Task Due date         1833 non-null   object \n",
      " 18  Task Created At       2827 non-null   object \n",
      " 19  Task Uptdated At      2827 non-null   object \n",
      " 20  Task status           2827 non-null   object \n",
      " 21  Ticket rule           2 non-null      object \n",
      "dtypes: float64(1), int64(1), object(20)\n",
      "memory usage: 695.5+ KB\n",
      "None\n"
     ]
    }
   ],
   "source": [
    "print(df1.info())\n"
   ]
  },
  {
   "cell_type": "code",
   "execution_count": 6,
   "metadata": {},
   "outputs": [
    {
     "name": "stdout",
     "output_type": "stream",
     "text": [
      "Ticket ID               2199\n",
      "Ticket Owner              17\n",
      "Ticket Title            1537\n",
      "Ticket Description      1761\n",
      "Ticket Cause             959\n",
      "Ticket Created At       2199\n",
      "Ticket Updated At       2199\n",
      "Ticket Due date          445\n",
      "Ticket Original Team       6\n",
      "Ticket Teams              42\n",
      "Ticket Category            7\n",
      "Ticket Status              5\n",
      "Ticket Labels           1672\n",
      "Ticket Archived At      2199\n",
      "Task ID                 2827\n",
      "Task Description        2330\n",
      "Task Author               59\n",
      "Task Due date            443\n",
      "Task Created At         2827\n",
      "Task Uptdated At        2827\n",
      "Task status                2\n",
      "Ticket rule                1\n",
      "dtype: int64\n"
     ]
    }
   ],
   "source": [
    "unique_values = df1.nunique()\n",
    "print(unique_values)\n"
   ]
  },
  {
   "cell_type": "code",
   "execution_count": 7,
   "metadata": {},
   "outputs": [
    {
     "name": "stdout",
     "output_type": "stream",
     "text": [
      "Ticket ID: 2199 unique values\n",
      "[1568539 1560088 1557293 1560498 1528955 1521041 1516519 1533681 1536807\n",
      " 1519989]\n",
      "\n",
      "Ticket Owner: 17 unique values\n",
      "['Cabine Morgan' 'Outillage Train' 'Adrien Chauveau' 'Vérif Bloc'\n",
      " 'Julien  Chevasson ' 'Loco Morgan' 'Chauffeur Four C30' 'Cabine Continu'\n",
      " 'Philippe De Miranda' 'Michael Barresi']\n",
      "\n",
      "Ticket Title: 1538 unique values\n",
      "['rebut le 14/10/24 a 18h42' '1 doublé le 11/10/2024 Coupure IH2'\n",
      " 'Rebut Cr2 le 10/10/2024 à 10h15'\n",
      " 'Rebut morcelage CR2/CR4/CR6 Le 11/10/2024'\n",
      " 'Rebut phyweld 625 le 01/10/24 à 20h00' 'Rebut bloc 27/09/2024 19:37'\n",
      " 'rebut doublé ( bouclage sortis I4 + carré de 57 ) 22h20 26/09/2024'\n",
      " 'Rebut fil fini le 03/10/2024 à 06h30'\n",
      " 'Rebut partielle et 1 rebut avant D1 le 03/10/2024 à 17:03:22.250'\n",
      " 'rebut bloc tms le 27/09/24 a 19h30']\n",
      "\n",
      "Ticket Description: 1762 unique values\n",
      "['défaut immédiat bassin de reprise EAU06Extrême queue morcelée Cr6 ( couronne bonne ) suivante rebut C57'\n",
      " \"Arrivé à la D0 la billette s'arrête Défaut IH2, demande de coupe CR1 Manu pourarrêter la chauffe de l'IH2côte du carré 61.7x60.8 élévation 3.2 la cannelure à 150T\"\n",
      " \"Plusieurs coupures IH2 lors du passage de la billette, la billette s'engage dansle dégro et juste après bouclage dans le dégro, je rattrape mais fini par bouclédans la bc2 et casse.\"\n",
      " 'En plein laminage, apparition du défaut \"Défaut non-urgent bassin de reprise\" et\"défaut immédiat bassin de reprise\"avec morcelage auto cr2 cr4 cr6. après le morcelage, acquitte défaut etcisailles et envoi la suivante sur le train.'\n",
      " \"1ere billette de Phyweld 625 rebut, C23 monte en température (110°+), et fuitl'huile à l'ouverture du capot bloc.\"\n",
      " \"Equipe DE MIRANDA, 19h37:Rebut au bloc passe à plat C21, au début de la billette Ok et petit à petit laboîte lâche.C'est le deuxième rebut avec la boîte qui lâche en 1h de temps.\"\n",
      " 'rebut carré de 57 + bouclage sortis I4'\n",
      " 'Rebut fil fini au bloc pour fort versement soudain. 3/10 sup.'\n",
      " 'En laminage de la billette au 3/4 Morcellage auto CR2/4/6 pour \"défaut immédiatbassin de reprise\"Dans le même temps la billette suivante s’engageait sur le train, je coupe CR1pour éviter de faire morceler une billette entière de 625 dans la CR2'\n",
      " \"rebut TMS sur la troisième du lotTête ok, un peu après légèrement pincé, ensuite la pinçure s'accentue et pourfinir passe à plat.\"]\n",
      "\n",
      "Ticket Cause: 960 unique values\n",
      "[nan 'Panne velocimètre (traité dans un autre ticket)'\n",
      " 'p1 : C23 grilléep2 : Défaut température de la C23 supérieur/supérieur'\n",
      " '• Rebut bloc• Passe à plat cage 21• BE 21 lâche• ???'\n",
      " 'Bouclage sortis I4 ratrapage effectué mais coupe volontaire CR2 ( le fil prenéde la hauteur malgré le rattrapage décisions de morceler cr2)Et un rebut carré 57 (nous étions en cadence)'\n",
      " 'Rebut partielle sur le train et une devant la d1Morcelage auto cr2/4/6défaut immédiat bassin de reprise'\n",
      " \"Rebut 18/19la boucleuse ne s'ouvre pas ou trop tardle fil ne prend pas la 19le fil tape dans les galet BE\"\n",
      " ' 1. rebut en 57² 2. pas envoyer sur le train 3. billette précédente reste sur rlx tms 4. tête coincée 5. tête noire mal transformée en spires ?'\n",
      " \"Rebut avant IH2le couloir s'arrêtedéfaut Bloc de sécurité IH2Le capot bloc de sécurité ce soulève (vue physiquement PERTURBO)billette courbé?\"\n",
      " '• 2 rebut carré de 57• pointe pas D0• morceau de coupe reste sur la tête de billette• petite coupe• taille de coupe irrégulière']\n",
      "\n",
      "Ticket Created At: 2199 unique values\n",
      "['2024-10-14T16:58:05.348206Z' '2024-10-11T03:15:35.985597Z'\n",
      " '2024-10-10T08:37:49.196105Z' '2024-10-11T05:55:00.915093Z'\n",
      " '2024-10-01T18:03:45.471464Z' '2024-09-30T04:13:18.508455Z'\n",
      " '2024-09-26T20:35:21.442227Z' '2024-10-03T05:05:19.057505Z'\n",
      " '2024-10-03T15:09:43.003603Z' '2024-09-27T17:49:02.478817Z']\n",
      "\n",
      "Ticket Updated At: 2199 unique values\n",
      "['2024-10-15T07:51:18.906722Z' '2024-10-11T07:57:15.873592Z'\n",
      " '2024-10-11T07:56:41.948689Z' '2024-10-11T07:45:59.872299Z'\n",
      " '2024-10-07T09:12:41.975439Z' '2024-10-07T09:11:52.483698Z'\n",
      " '2024-10-07T09:11:30.574396Z' '2024-10-07T09:09:01.564964Z'\n",
      " '2024-10-07T09:06:15.376583Z' '2024-10-07T09:05:33.167743Z']\n",
      "\n",
      "Ticket Due date: 446 unique values\n",
      "['2024-10-14' '2024-10-11' '2024-10-10' '2024-10-01' '2024-09-30'\n",
      " '2024-09-26' '2024-10-03' '2024-09-27' '2024-09-19' '2024-10-02']\n",
      "\n",
      "Ticket Original Team: 6 unique values\n",
      "['LAC TAF N1' 'LAC Outillage' 'LAC TAF N2' 'LAC Département'\n",
      " 'Règles rouges qualité' 'LAC Maintenance']\n",
      "\n",
      "Ticket Teams: 42 unique values\n",
      "['LAC TAF N1,LAC TAF N2,LAC Maintenance' 'LAC TAF N1'\n",
      " 'LAC Outillage,LAC TAF N1' 'LAC TAF N1,LAC TAF N2'\n",
      " 'LAC TAF N1,LAC Outillage,LAC TAF N2' 'LAC TAF N2,LAC TAF N1'\n",
      " 'LAC TAF N1,LAC Assistance technique'\n",
      " 'LAC TAF N1,LAC TAF N2,LAC Outillage' 'LAC TAF N1,LAC Outillage'\n",
      " 'LAC TAF N1,LAC TAF N2,TRA Suivi QRQC,ACI CCR N2']\n",
      "\n",
      "Ticket Category: 8 unique values\n",
      "['Productivité' 'Rebut' nan 'Qualité' 'Sécurité/Environnement' 'Personnel'\n",
      " 'RRQ' 'Maintenance']\n",
      "\n",
      "Ticket Status: 6 unique values\n",
      "['Eq. De Miranda' 'Eq. Barresi' nan 'Eq. Burgain' 'A traiter'\n",
      " 'Marche dégradée']\n",
      "\n",
      "Ticket Labels: 1673 unique values\n",
      "['of : 4100592583,5FRU06,IMPHY 286,B5142'\n",
      " 'Phy 625,9FDA22,Of 589500,Coulée RQ176'\n",
      " \"Phy 625,OF 592785,coulée RQ132,Carré de 120 passé à l'IH1\"\n",
      " 'Phy 625-8w,9FDA29,Coulée RQ177,Of 581907'\n",
      " '9FDA22,PHYWELD 625,587514,RP934' 'Imphy 718,1YAL03,4100790585,Ø10.5'\n",
      " '4100591361,Imphy 276 LFE,5YRA01,RQ137,B07'\n",
      " '4100584245,5FRU06,IMPHY 286,diamètre 6.5'\n",
      " 'Phy 625,9FDA22,Coulée RQ171,Of 589720'\n",
      " '4100590785,1YAL03,IMPHY 718,Y1443']\n",
      "\n",
      "Ticket Archived At: 2199 unique values\n",
      "['2024-10-15T07:51:18.743432Z' '2024-10-11T07:57:15.722000Z'\n",
      " '2024-10-11T07:56:40.770737Z' '2024-10-11T07:45:59.733078Z'\n",
      " '2024-10-07T09:12:41.846373Z' '2024-10-07T09:11:52.354950Z'\n",
      " '2024-10-07T09:11:30.403755Z' '2024-10-07T09:09:01.411370Z'\n",
      " '2024-10-07T09:06:15.234153Z' '2024-10-07T09:05:32.074965Z']\n",
      "\n",
      "Task ID: 2828 unique values\n",
      "[     nan 3109383. 3109385. 3122788. 3092281. 3092282. 3092283. 3092288.\n",
      " 3082651. 3082657.]\n",
      "\n",
      "Task Description: 2331 unique values\n",
      "[nan 'Démontage C23 complète' 'Contrôler cage 23 au changement'\n",
      " 'Dégagement rebut' 'Contrôle élévations' 'Vérification outillages'\n",
      " 'Changer BE21' 'changement lames cr2' 'vérification train'\n",
      " 'évacuation carré de 57']\n",
      "\n",
      "Task Author: 60 unique values\n",
      "[nan 'Outillage Train' 'Vincent  Guezet' 'Cabine Morgan' 'Wilson DOUARNE'\n",
      " 'Loco Morgan' 'Lionel GRISARD' 'BURGAIN Denis' 'Philippe De Miranda'\n",
      " 'Thierry Morlet']\n",
      "\n",
      "Task Due date: 444 unique values\n",
      "[nan '2024-10-01' '2024-10-02' '2024-09-30' '2024-10-03' '2024-09-23'\n",
      " '2024-09-03' '2024-10-31' '2024-09-27' '2024-09-10']\n",
      "\n",
      "Task Created At: 2828 unique values\n",
      "[nan '2024-10-01T18:07:42.203163Z' '2024-10-01T18:08:02.410595Z'\n",
      " '2024-10-03T08:36:04.429294Z' '2024-09-30T04:23:36.982279Z'\n",
      " '2024-09-30T04:23:48.784099Z' '2024-09-30T04:24:00.411838Z'\n",
      " '2024-09-30T04:26:10.085709Z' '2024-09-26T20:42:35.944136Z'\n",
      " '2024-09-26T20:42:48.937363Z']\n",
      "\n",
      "Task Uptdated At: 2828 unique values\n",
      "[nan '2024-10-01T18:07:59.987499Z' '2024-10-01T18:08:11.816121Z'\n",
      " '2024-10-07T09:12:13.144604Z' '2024-09-30T04:23:47.370634Z'\n",
      " '2024-09-30T04:23:59.549968Z' '2024-09-30T04:24:16.393519Z'\n",
      " '2024-09-30T04:26:18.875869Z' '2024-09-26T20:42:48.104511Z'\n",
      " '2024-09-26T20:43:05.518772Z']\n",
      "\n",
      "Task status: 3 unique values\n",
      "[nan 'Completed' 'Incomplete']\n",
      "\n",
      "Ticket rule: 2 unique values\n",
      "[nan\n",
      " '3 Je m’assure que mon outil est dans son état standard pour produire des produits conformes']\n",
      "\n"
     ]
    }
   ],
   "source": [
    "for column in df1.columns:\n",
    "    unique_vals = df1[column].unique()\n",
    "    print(f\"{column}: {len(unique_vals)} unique values\")\n",
    "    print(unique_vals[:10])  # Display the first 10 unique values (adjust if needed)\n",
    "    print()\n"
   ]
  },
  {
   "cell_type": "code",
   "execution_count": 8,
   "metadata": {},
   "outputs": [
    {
     "name": "stdout",
     "output_type": "stream",
     "text": [
      "[0                       rebut le 14/10/24 a 18h42\n",
      "1              1 doublé le 11/10/2024 Coupure IH2\n",
      "2                 Rebut Cr2 le 10/10/2024 à 10h15\n",
      "3       Rebut morcelage CR2/CR4/CR6 Le 11/10/2024\n",
      "4           Rebut phyweld 625 le 01/10/24 à 20h00\n",
      "                          ...                    \n",
      "4041                       Rebut 100x56 Imphy 718\n",
      "4042                           Rebut imphy 625 D1\n",
      "4043     NCL-22-467    DIMENSION       BLOC VERIF\n",
      "4044     NCL-22-469    DIMENSION       BLOC VERIF\n",
      "4045     NCL-22-469    DIMENSION       BLOC VERIF\n",
      "Name: Ticket Title, Length: 4046, dtype: object, 0       défaut immédiat bassin de reprise EAU06Extrême...\n",
      "1       Arrivé à la D0 la billette s'arrête Défaut IH2...\n",
      "2       Plusieurs coupures IH2 lors du passage de la b...\n",
      "3       En plein laminage, apparition du défaut \"Défau...\n",
      "4       1ere billette de Phyweld 625 rebut, C23 monte ...\n",
      "                              ...                        \n",
      "4041    jeudi 14 juillet 2022 à 19h50Billette en 100x5...\n",
      "4042               Coviaux 7h10 27/05/2022Rebut imphy 625\n",
      "4043    Qté:1 Ovalisation trop élevée.FNCI N° Couronne...\n",
      "4044    Qté:1 Cote hors catégorie jauge 1réglage fer N...\n",
      "4045    Qté:1 Cote hors catégorie jauge 1réglage fer N...\n",
      "Name: Ticket Description, Length: 4046, dtype: object]\n"
     ]
    }
   ],
   "source": [
    "documents = [df1[\"Ticket Title\"],df1[\"Ticket Description\"]]\n",
    "print(documents)"
   ]
  },
  {
   "cell_type": "code",
   "execution_count": 10,
   "metadata": {},
   "outputs": [],
   "source": [
    "df1.to_excel(\"text.xlsx\", index = False)"
   ]
  }
 ],
 "metadata": {
  "kernelspec": {
   "display_name": "Python 3",
   "language": "python",
   "name": "python3"
  },
  "language_info": {
   "codemirror_mode": {
    "name": "ipython",
    "version": 3
   },
   "file_extension": ".py",
   "mimetype": "text/x-python",
   "name": "python",
   "nbconvert_exporter": "python",
   "pygments_lexer": "ipython3",
   "version": "3.13.0"
  }
 },
 "nbformat": 4,
 "nbformat_minor": 2
}
